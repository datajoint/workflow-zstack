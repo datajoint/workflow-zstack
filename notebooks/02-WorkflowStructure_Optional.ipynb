{
 "cells": [
  {
   "attachments": {},
   "cell_type": "markdown",
   "metadata": {
    "tags": []
   },
   "source": [
    "# DataJoint U24 - Workflow Volume"
   ]
  },
  {
   "cell_type": "markdown",
   "metadata": {},
   "source": [
    "## Introduction"
   ]
  },
  {
   "attachments": {},
   "cell_type": "markdown",
   "metadata": {},
   "source": [
    "This notebook introduces some useful DataJoint concepts for exploring pipelines featuring Element Volume.\n",
    "\n",
    "+ DataJoint needs to be configured before running this notebook (see [01-Configure](./01-Configure.ipynb)).\n",
    "+ Those familiar with the structure of DataJoint workflows can skip to [03-Explore](./03-Explore.ipynb)."
   ]
  },
  {
   "cell_type": "markdown",
   "metadata": {},
   "source": [
    "To load the local config, we move to the package root."
   ]
  },
  {
   "cell_type": "code",
   "execution_count": 1,
   "metadata": {},
   "outputs": [],
   "source": [
    "import os\n",
    "\n",
    "if os.path.basename(os.getcwd()) == \"notebooks\":\n",
    "    os.chdir(\"..\")"
   ]
  },
  {
   "cell_type": "markdown",
   "metadata": {},
   "source": [
    "## Schemas, Diagrams and Tables"
   ]
  },
  {
   "attachments": {},
   "cell_type": "markdown",
   "metadata": {},
   "source": [
    "Schemas are conceptually related sets of tables. By importing schemas from `workflow_volume.pipeline`, we'll declare the tables on the server with the prefix in the config (if we have permission to do so). If these tables are already declared, we'll gain access. \n",
    "\n",
    "- `dj.list_schemas()` lists all schemas a user has access to in the current database\n",
    "- `<schema>.schema.list_tables()` will provide names for each table in the format used under the hood."
   ]
  },
  {
   "cell_type": "code",
   "execution_count": 2,
   "metadata": {},
   "outputs": [
    {
     "name": "stderr",
     "output_type": "stream",
     "text": [
      "[2023-03-28 10:43:18,127][INFO]: Connecting kushalbakshitest@tutorial-db.datajoint.io:3306\n",
      "[2023-03-28 10:43:18,619][INFO]: Connected kushalbakshitest@tutorial-db.datajoint.io:3306\n"
     ]
    }
   ],
   "source": [
    "import datajoint as dj\n",
    "from workflow_volume.pipeline import lab, subject, session, scan, volume\n",
    "# dj.list_schemas()"
   ]
  },
  {
   "cell_type": "code",
   "execution_count": null,
   "metadata": {},
   "outputs": [],
   "source": [
    "dj.list_schemas()"
   ]
  },
  {
   "cell_type": "code",
   "execution_count": null,
   "metadata": {},
   "outputs": [],
   "source": [
    "volume.schema.list_tables()"
   ]
  },
  {
   "attachments": {},
   "cell_type": "markdown",
   "metadata": {},
   "source": [
    "`dj.Diagram()` plots tables and dependencies in a schema. To see additional upstream or downstream connections, add `- N` or `+ N`.\n",
    "\n",
    "- `volume`: Tables related to volumetric data\n",
    "- `bossdb`: Schema to manage BossDB urls for each data type. This could be replaced by a similar schema featuring URLs to another endpoint."
   ]
  },
  {
   "cell_type": "code",
   "execution_count": null,
   "metadata": {},
   "outputs": [],
   "source": [
    "from element_volume.bossdb import *"
   ]
  },
  {
   "cell_type": "code",
   "execution_count": null,
   "metadata": {},
   "outputs": [],
   "source": [
    "from element_volume.volume import *"
   ]
  },
  {
   "cell_type": "code",
   "execution_count": 3,
   "metadata": {
    "title": "`dj.Diagram()`: plot tables and dependencies"
   },
   "outputs": [
    {
     "data": {
      "image/svg+xml": "<svg xmlns=\"http://www.w3.org/2000/svg\" xmlns:xlink=\"http://www.w3.org/1999/xlink\" width=\"318pt\" height=\"373pt\" viewBox=\"0.00 0.00 318.00 373.00\">\n<g id=\"graph0\" class=\"graph\" transform=\"scale(1 1) rotate(0) translate(4 369)\">\n<polygon fill=\"white\" stroke=\"transparent\" points=\"-4,4 -4,-369 314,-369 314,4 -4,4\"/>\n<!-- volume.Volume -->\n<g id=\"node1\" class=\"node\">\n<title>volume.Volume</title>\n<g id=\"a_node1\"><a xlink:title=\"→ scan.Scan\r------------------------------\rpx_width             \rpx_height            \rpx_depth             \rdepth_mean_brightness=null \rvolume               \r\">\n<ellipse fill=\"#00007f\" fill-opacity=\"0.250980\" stroke=\"#00007f\" stroke-opacity=\"0.250980\" cx=\"239\" cy=\"-205.5\" rx=\"61.75\" ry=\"17.5\"/>\n<text text-anchor=\"middle\" x=\"239\" y=\"-202.4\" font-family=\"arial\" font-size=\"12.00\" fill=\"#00007f\" fill-opacity=\"0.627451\">volume.Volume</text>\n</a>\n</g>\n</g>\n<!-- volume.SegmentationTask -->\n<g id=\"node7\" class=\"node\">\n<title>volume.SegmentationTask</title>\n<g id=\"a_node7\"><a xlink:title=\"→ volume.Volume\r→ volume.SegmentationParamset\r------------------------------\rsegmentation_output_dir=&quot;&quot; \rtask_mode=&quot;load&quot;     \r\">\n<polygon fill=\"#00ff00\" fill-opacity=\"0.188235\" stroke=\"#00ff00\" stroke-opacity=\"0.188235\" points=\"158,-152 0,-152 0,-117 158,-117 158,-152\"/>\n<text text-anchor=\"middle\" x=\"79\" y=\"-131.4\" font-family=\"arial\" font-size=\"12.00\" fill=\"darkgreen\">volume.SegmentationTask</text>\n</a>\n</g>\n</g>\n<!-- volume.Volume&#45;&gt;volume.SegmentationTask -->\n<g id=\"edge1\" class=\"edge\">\n<title>volume.Volume-&gt;volume.SegmentationTask</title>\n<path fill=\"none\" stroke=\"#000000\" stroke-width=\"0.75\" stroke-opacity=\"0.250980\" d=\"M206.62,-190.54C180.87,-179.43 144.77,-163.86 117.53,-152.12\"/>\n</g>\n<!-- volume.BossDBURLs -->\n<g id=\"node8\" class=\"node\">\n<title>volume.BossDBURLs</title>\n<g id=\"a_node8\"><a xlink:title=\"→ volume.Volume\r------------------------------\rdata_type            \rcollection_name      \rexperiment_name      \rvolume_url=&quot;&quot;        \rsegmentation_url=&quot;&quot;  \r\">\n<polygon fill=\"#00ff00\" fill-opacity=\"0.188235\" stroke=\"#00ff00\" stroke-opacity=\"0.188235\" points=\"310,-152 176,-152 176,-117 310,-117 310,-152\"/>\n<text text-anchor=\"middle\" x=\"243\" y=\"-131.4\" font-family=\"arial\" font-size=\"12.00\" fill=\"darkgreen\">volume.BossDBURLs</text>\n</a>\n</g>\n</g>\n<!-- volume.Volume&#45;&gt;volume.BossDBURLs -->\n<g id=\"edge2\" class=\"edge\">\n<title>volume.Volume-&gt;volume.BossDBURLs</title>\n<path fill=\"none\" stroke=\"#000000\" stroke-width=\"2\" stroke-opacity=\"0.250980\" d=\"M239.97,-187.8C240.6,-176.95 241.41,-162.87 242.04,-152.05\"/>\n</g>\n<!-- volume.Segmentation -->\n<g id=\"node2\" class=\"node\">\n<title>volume.Segmentation</title>\n<g id=\"a_node2\"><a xlink:title=\"→ volume.SegmentationTask\r\">\n<ellipse fill=\"#ff0000\" fill-opacity=\"0.125490\" stroke=\"#ff0000\" stroke-opacity=\"0.125490\" cx=\"79\" cy=\"-68\" rx=\"13\" ry=\"13\"/>\n<text text-anchor=\"middle\" x=\"79\" y=\"-64.9\" font-family=\"arial\" font-size=\"12.00\" fill=\"#7f0000\" fill-opacity=\"0.627451\">volume.Segmentation</text>\n</a>\n</g>\n</g>\n<!-- volume.Segmentation.Mask -->\n<g id=\"node3\" class=\"node\">\n<title>volume.Segmentation.Mask</title>\n<g id=\"a_node3\"><a xlink:title=\"→ volume.Segmentation\rmask                 \r------------------------------\rmask_npix            \rmask_center_x        \rmask_center_y        \rmask_center_z        \rmask_xpix            \rmask_ypix            \rmask_zpix            \rmask_weights         \r\">\n<polygon fill=\"transparent\" stroke=\"transparent\" points=\"148,-19 10,-19 10,0 148,0 148,-19\"/>\n<text text-anchor=\"start\" x=\"18\" y=\"-8\" font-family=\"arial\" text-decoration=\"underline\" font-size=\"10.00\">volume.Segmentation.Mask</text>\n</a>\n</g>\n</g>\n<!-- volume.Segmentation&#45;&gt;volume.Segmentation.Mask -->\n<g id=\"edge3\" class=\"edge\">\n<title>volume.Segmentation-&gt;volume.Segmentation.Mask</title>\n<path fill=\"none\" stroke=\"#000000\" stroke-width=\"0.75\" stroke-opacity=\"0.250980\" d=\"M79,-54.74C79,-43.97 79,-28.56 79,-19.06\"/>\n</g>\n<!-- volume.SegmentationParamset -->\n<g id=\"node4\" class=\"node\">\n<title>volume.SegmentationParamset</title>\n<g id=\"a_node4\"><a xlink:title=\"paramset_idx         \r------------------------------\rsegmentation_method  \rparamset_desc=&quot;&quot;     \rparams               \rparamset_hash        \rUNIQUE INDEX (paramset_hash)\r\">\n<polygon fill=\"#000000\" fill-opacity=\"0.125490\" stroke=\"transparent\" points=\"155.5,-223 2.5,-223 2.5,-188 155.5,-188 155.5,-223\"/>\n<text text-anchor=\"start\" x=\"10.5\" y=\"-204\" font-family=\"arial\" text-decoration=\"underline\" font-size=\"10.00\">volume.SegmentationParamset</text>\n</a>\n</g>\n</g>\n<!-- volume.SegmentationParamset&#45;&gt;volume.SegmentationTask -->\n<g id=\"edge4\" class=\"edge\">\n<title>volume.SegmentationParamset-&gt;volume.SegmentationTask</title>\n<path fill=\"none\" stroke=\"#000000\" stroke-width=\"0.75\" stroke-opacity=\"0.250980\" d=\"M79,-187.8C79,-176.95 79,-162.87 79,-152.05\"/>\n</g>\n<!-- session.Session -->\n<g id=\"node5\" class=\"node\">\n<title>session.Session</title>\n<g id=\"a_node5\"><a xlink:title=\"→ subject.Subject\rsession_id           \r------------------------------\rsession_datetime     \r\">\n<polygon fill=\"#00ff00\" fill-opacity=\"0.188235\" stroke=\"#00ff00\" stroke-opacity=\"0.188235\" points=\"291,-365 187,-365 187,-330 291,-330 291,-365\"/>\n<text text-anchor=\"start\" x=\"195\" y=\"-345.4\" font-family=\"arial\" text-decoration=\"underline\" font-size=\"12.00\" fill=\"darkgreen\">session.Session</text>\n</a>\n</g>\n</g>\n<!-- scan.Scan -->\n<g id=\"node6\" class=\"node\">\n<title>scan.Scan</title>\n<g id=\"a_node6\"><a xlink:title=\"→ session.Session\rscan_id              \r------------------------------\r→ [nullable] `kushalbakshitest_reference`.`#device`\r→ scan.AcquisitionSoftware\rscan_notes=&quot;&quot;        \r\">\n<polygon fill=\"#00ff00\" fill-opacity=\"0.188235\" stroke=\"#00ff00\" stroke-opacity=\"0.188235\" points=\"275.5,-294 202.5,-294 202.5,-259 275.5,-259 275.5,-294\"/>\n<text text-anchor=\"start\" x=\"210.5\" y=\"-274.4\" font-family=\"arial\" text-decoration=\"underline\" font-size=\"12.00\" fill=\"darkgreen\">scan.Scan</text>\n</a>\n</g>\n</g>\n<!-- session.Session&#45;&gt;scan.Scan -->\n<g id=\"edge5\" class=\"edge\">\n<title>session.Session-&gt;scan.Scan</title>\n<path fill=\"none\" stroke=\"#000000\" stroke-width=\"0.75\" stroke-opacity=\"0.250980\" d=\"M239,-329.8C239,-318.95 239,-304.87 239,-294.05\"/>\n</g>\n<!-- scan.Scan&#45;&gt;volume.Volume -->\n<g id=\"edge6\" class=\"edge\">\n<title>scan.Scan-&gt;volume.Volume</title>\n<path fill=\"none\" stroke=\"#000000\" stroke-width=\"2\" stroke-opacity=\"0.250980\" d=\"M239,-258.8C239,-247.95 239,-233.87 239,-223.05\"/>\n</g>\n<!-- volume.SegmentationTask&#45;&gt;volume.Segmentation -->\n<g id=\"edge7\" class=\"edge\">\n<title>volume.SegmentationTask-&gt;volume.Segmentation</title>\n<path fill=\"none\" stroke=\"#000000\" stroke-width=\"2\" stroke-opacity=\"0.250980\" d=\"M79,-116.89C79,-105.69 79,-91.17 79,-81.07\"/>\n</g>\n</g>\n</svg>",
      "text/plain": [
       "<datajoint.diagram.Diagram at 0x23a6e00f8e0>"
      ]
     },
     "execution_count": 3,
     "metadata": {},
     "output_type": "execute_result"
    }
   ],
   "source": [
    "dj.Diagram(session.Session) + dj.Diagram(scan.Scan) + dj.Diagram(volume)"
   ]
  },
  {
   "attachments": {},
   "cell_type": "markdown",
   "metadata": {},
   "source": [
    "`volume.Volume` is a central table where volumetric data can be ingested, either from images on disk or downloaded from BossDB. The various *task* tables can be used to cue up analysis or ingestion of the various subsequent data types (i.e., segmentation and connectome data. Each segmented cell can be matched with data from another source (e.g., Element Calcium Imaging's `Segmentation.Mask`)."
   ]
  },
  {
   "cell_type": "code",
   "execution_count": null,
   "metadata": {},
   "outputs": [],
   "source": [
    "volume.schema"
   ]
  },
  {
   "cell_type": "code",
   "execution_count": null,
   "metadata": {},
   "outputs": [],
   "source": [
    "dj.Diagram(volume) - 1"
   ]
  },
  {
   "cell_type": "markdown",
   "metadata": {},
   "source": [
    "### Table Types\n",
    "\n",
    "- **Manual table**: green box, manually inserted table, expect new entries daily, e.g. Subject, ProbeInsertion.  \n",
    "- **Lookup table**: gray box, pre inserted table, commonly used for general facts or parameters. e.g. Strain, ClusteringMethod, ClusteringParamSet.  \n",
    "- **Imported table**: blue oval, auto-processing table, the processing depends on the importing of external files. e.g. process of Clustering requires output files from kilosort2.  \n",
    "- **Computed table**: red circle, auto-processing table, the processing does not depend on files external to the database, commonly used for     \n",
    "- **Part table**: plain text, as an appendix to the master table, all the part entries of a given master entry represent a intact set of the master entry. e.g. Unit of a CuratedClustering.\n",
    "\n",
    "### Table Links\n",
    "\n",
    "- **One-to-one primary**: thick solid line, share the exact same primary key, meaning the child table inherits all the primary key fields from the parent table as its own primary key.     \n",
    "- **One-to-many primary**: thin solid line, inherit the primary key from the parent table, but have additional field(s) as part of the primary key as well\n",
    "- **Secondary dependency**: dashed line, the child table inherits the primary key fields from parent table as its own secondary attribute."
   ]
  },
  {
   "cell_type": "markdown",
   "metadata": {},
   "source": [
    "## Common Table Functions"
   ]
  },
  {
   "cell_type": "markdown",
   "metadata": {},
   "source": [
    "\n",
    "- `<table>()` show table contents\n",
    "- `heading` shows attribute definitions\n",
    "- `describe()` show table defintiion with foreign key references"
   ]
  },
  {
   "cell_type": "code",
   "execution_count": null,
   "metadata": {
    "title": "Each datajoint table class inside the module corresponds to a table inside the schema. For example, the class `ephys.EphysRecording` correponds to the table `_ephys_recording` in the schema `neuro_ephys` in the database."
   },
   "outputs": [],
   "source": [
    "volume.Resolution()"
   ]
  },
  {
   "cell_type": "code",
   "execution_count": null,
   "metadata": {
    "title": "`heading`: show table attributes regardless of foreign key references."
   },
   "outputs": [],
   "source": [
    "volume.Volume.heading"
   ]
  },
  {
   "cell_type": "code",
   "execution_count": null,
   "metadata": {},
   "outputs": [],
   "source": [
    "volume.Segmentation.describe()"
   ]
  },
  {
   "attachments": {},
   "cell_type": "markdown",
   "metadata": {
    "title": "ephys"
   },
   "source": [
    "## Other Elements installed with the workflow\n",
    "\n",
    "- [`lab`](https://github.com/datajoint/element-lab): lab management related information, such as Lab, User, Project, Protocol, Source.\n",
    "- [`subject`](https://github.com/datajoint/element-animal): general animal information, User, Genetic background, Death etc.\n",
    "- [`session`](https://github.com/datajoint/element-session): general information of experimental sessions.\n",
    "- [`calcium-imaging`](https://github.com/datajoint/element-calcium-imaging): imaging schema for generating activity traces. These can be mapped to cells in `volume.Connectome`\n",
    "\n",
    "For more information about these Elements, see [workflow session](https://github.com/datajoint/workflow-session) or [workflow calcium imaging](https://github.com/datajoint/workflow-calcium-imaging)."
   ]
  },
  {
   "cell_type": "code",
   "execution_count": null,
   "metadata": {},
   "outputs": [],
   "source": [
    "dj.Diagram(lab) + dj.Diagram(subject) + dj.Diagram(session)"
   ]
  },
  {
   "cell_type": "code",
   "execution_count": null,
   "metadata": {
    "title": "[session](https://github.com/datajoint/element-session): experimental session information"
   },
   "outputs": [],
   "source": [
    "session.Session.describe()"
   ]
  },
  {
   "attachments": {},
   "cell_type": "markdown",
   "metadata": {},
   "source": [
    "## Summary and next step\n",
    "\n",
    "- This notebook introduced the overall structures of the schemas and tables in the workflow and relevant tools to explore the schema structure and table definitions.\n",
    "\n",
    "- The [next notebook](./03-Explore.ipynb) will introduce the detailed steps to run through `workflow-volume`."
   ]
  }
 ],
 "metadata": {
  "jupytext": {
   "encoding": "# -*- coding: utf-8 -*-",
   "formats": "ipynb,py:percent"
  },
  "kernelspec": {
   "display_name": "ele",
   "language": "python",
   "name": "python3"
  },
  "language_info": {
   "codemirror_mode": {
    "name": "ipython",
    "version": 3
   },
   "file_extension": ".py",
   "mimetype": "text/x-python",
   "name": "python",
   "nbconvert_exporter": "python",
   "pygments_lexer": "ipython3",
   "version": "3.9.12"
  },
  "vscode": {
   "interpreter": {
    "hash": "d00c4ad21a7027bf1726d6ae3a9a6ef39c8838928eca5a3d5f51f3eb68720410"
   }
  }
 },
 "nbformat": 4,
 "nbformat_minor": 4
}
