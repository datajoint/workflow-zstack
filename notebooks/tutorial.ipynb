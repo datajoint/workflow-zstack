{
 "cells": [
  {
   "attachments": {},
   "cell_type": "markdown",
   "metadata": {
    "tags": []
   },
   "source": [
    "# Process volumetric fluorescent microscopy data with DataJoint Elements\n",
    "\n",
    "This notebook will walk through processing volumetric two-photon calcium imaging data collected\n",
    "from ScanImage and segmented with cellpose. While anyone can work through this\n",
    "notebook to process volumetric fluorescent microscopy data through DataJoint's\n",
    "`element-zstack` pipeline, for a detailed tutorial about the fundamentals of\n",
    "DataJoint including table types, make functions, and querying, please see the\n",
    "[DataJoint Tutorial](https://github.com/datajoint/datajoint-tutorials).\n",
    "\n",
    "**Please note that uploading data to BossDB via this pipeline requires an API\n",
    "token which can be obtained by creating an account at\n",
    "[api.bossdb.io](https://api.bossdb.io). You will also need resource manager\n",
    "permissions from the team at [BossDB](https://bossdb.org).**\n",
    "\n",
    "The DataJoint Python API and Element ZStack offer a lot of features to\n",
    "support collaboration, automation, reproducibility, and visualizations.\n",
    "For more information on these topics, please visit our documentation: \n",
    " \n",
    "- [DataJoint Core](https://datajoint.com/docs/core/): General principles\n",
    "\n",
    "- DataJoint [Python](https://datajoint.com/docs/core/datajoint-python/) and\n",
    "  [MATLAB](https://datajoint.com/docs/core/datajoint-matlab/) APIs: in-depth reviews of\n",
    "  specifics\n",
    "\n",
    "- [DataJoint Element ZStack](https://datajoint.com/docs/elements/element-zstack/):\n",
    "  A modular pipeline for volumetric calcium imaging data analysis\n",
    "\n",
    "\n",
    "Let's start by importing the packages necessary to run this tutorial."
   ]
  },
  {
   "cell_type": "code",
   "execution_count": 1,
   "metadata": {},
   "outputs": [],
   "source": [
    "import os\n",
    "\n",
    "# change to the upper level folder to detect dj_local_conf.json\n",
    "if os.path.basename(os.getcwd()) == \"notebooks\":\n",
    "    os.chdir(\"..\")\n",
    "\n",
    "import datajoint as dj\n",
    "import datetime\n",
    "import numpy as np"
   ]
  },
  {
   "attachments": {},
   "cell_type": "markdown",
   "metadata": {},
   "source": [
    "### The Basics:\n",
    "\n",
    "Any DataJoint workflow can be broken down into basic 3 parts:\n",
    "\n",
    "- `Insert`\n",
    "- `Populate` (or process)\n",
    "- `Query`\n",
    "\n",
    "In this demo we will:\n",
    "- `Insert` metadata about an animal subject, recording session, and \n",
    "  parameters related to processing calcium imaging data through Suite2p.\n",
    "- `Populate` tables with outputs of image processing including motion correction,\n",
    "  segmentation, mask classification, fluorescence traces and deconvolved activity traces.\n",
    "- `Query` the processed data from the database and plot calcium activity traces.\n",
    "\n",
    "Each of these topics will be explained thoroughly in this notebook."
   ]
  },
  {
   "attachments": {},
   "cell_type": "markdown",
   "metadata": {},
   "source": [
    "### Workflow diagram\n",
    "\n",
    "This workflow is assembled from 5 DataJoint elements:\n",
    "+ [element-lab](https://github.com/datajoint/element-lab)\n",
    "+ [element-animal](https://github.com/datajoint/element-animal)\n",
    "+ [element-session](https://github.com/datajoint/element-session)\n",
    "+ [element-calcium-imaging](https://github.com/datajoint/element-calcium-imaging)\n",
    "+ [element-zstack](https://github.com/datajoint/element-zstack)\n",
    "\n",
    "Each element declares its own schema in the database. These schemas can be imported like\n",
    "any other Python package. This workflow is composed of schemas from each of the Elements\n",
    "above and correspond to a module within `workflow_zstack.pipeline`.\n",
    "\n",
    "The schema diagram is a good reference for understanding the order of the tables\n",
    "within the workflow, as well as the corresponding table type.\n",
    "Let's activate the elements and view the schema diagram."
   ]
  },
  {
   "cell_type": "code",
   "execution_count": null,
   "metadata": {},
   "outputs": [],
   "source": [
    "from workflow_zstack.pipeline import (\n",
    "    lab,\n",
    "    subject,\n",
    "    session,\n",
    "    scan,\n",
    "    volume,\n",
    "    volume_matching,\n",
    "    bossdb,\n",
    ")"
   ]
  },
  {
   "cell_type": "code",
   "execution_count": 3,
   "metadata": {},
   "outputs": [
    {
     "data": {
      "image/svg+xml": [
       "<svg xmlns=\"http://www.w3.org/2000/svg\" xmlns:xlink=\"http://www.w3.org/1999/xlink\" width=\"893pt\" height=\"515pt\" viewBox=\"0.00 0.00 893.00 515.00\">\n",
       "<g id=\"graph0\" class=\"graph\" transform=\"scale(1 1) rotate(0) translate(4 511)\">\n",
       "<polygon fill=\"white\" stroke=\"transparent\" points=\"-4,4 -4,-511 889,-511 889,4 -4,4\"/>\n",
       "<!-- volume_matching.VolumeMatch.CommonMask -->\n",
       "<g id=\"node1\" class=\"node\">\n",
       "<title>volume_matching.VolumeMatch.CommonMask</title>\n",
       "<g id=\"a_node1\"><a xlink:title=\"common_mask          \r\">\n",
       "<polygon fill=\"transparent\" stroke=\"transparent\" points=\"676,-77.5 454,-77.5 454,-58.5 676,-58.5 676,-77.5\"/>\n",
       "<text text-anchor=\"start\" x=\"462\" y=\"-66.5\" font-family=\"arial\" text-decoration=\"underline\" font-size=\"10.00\">volume_matching.VolumeMatch.CommonMask</text>\n",
       "</a>\n",
       "</g>\n",
       "</g>\n",
       "<!-- volume_matching.VolumeMatch.VolumeMask -->\n",
       "<g id=\"node17\" class=\"node\">\n",
       "<title>volume_matching.VolumeMatch.VolumeMask</title>\n",
       "<g id=\"a_node17\"><a xlink:title=\"→ volume_matching.VolumeMatch.CommonMask\r→ volume_matching.VolumeMatchTask.Volume\r------------------------------\r→ volume.Segmentation.Mask\rconfidence           \r\">\n",
       "<polygon fill=\"transparent\" stroke=\"transparent\" points=\"672.5,-19 457.5,-19 457.5,0 672.5,0 672.5,-19\"/>\n",
       "<text text-anchor=\"middle\" x=\"565\" y=\"-7\" font-family=\"arial\" font-size=\"10.00\">volume_matching.VolumeMatch.VolumeMask</text>\n",
       "</a>\n",
       "</g>\n",
       "</g>\n",
       "<!-- volume_matching.VolumeMatch.CommonMask&#45;&gt;volume_matching.VolumeMatch.VolumeMask -->\n",
       "<g id=\"edge1\" class=\"edge\">\n",
       "<title>volume_matching.VolumeMatch.CommonMask-&gt;volume_matching.VolumeMatch.VolumeMask</title>\n",
       "<path fill=\"none\" stroke=\"#000000\" stroke-width=\"0.75\" stroke-opacity=\"0.250980\" d=\"M565,-58.17C565,-47.5 565,-29.65 565,-19.08\"/>\n",
       "</g>\n",
       "<!-- volume_matching.VolumeMatchTask -->\n",
       "<g id=\"node2\" class=\"node\">\n",
       "<title>volume_matching.VolumeMatchTask</title>\n",
       "<g id=\"a_node2\"><a xlink:title=\"volume_match_task    \r\">\n",
       "<polygon fill=\"#00ff00\" fill-opacity=\"0.188235\" stroke=\"#00ff00\" stroke-opacity=\"0.188235\" points=\"436,-152 224,-152 224,-117 436,-117 436,-152\"/>\n",
       "<text text-anchor=\"start\" x=\"232\" y=\"-132.4\" font-family=\"arial\" text-decoration=\"underline\" font-size=\"12.00\" fill=\"darkgreen\">volume_matching.VolumeMatchTask</text>\n",
       "</a>\n",
       "</g>\n",
       "</g>\n",
       "<!-- volume_matching.VolumeMatchTask.Volume -->\n",
       "<g id=\"node9\" class=\"node\">\n",
       "<title>volume_matching.VolumeMatchTask.Volume</title>\n",
       "<g id=\"a_node9\"><a xlink:title=\"→ volume_matching.VolumeMatchTask\r→ volume.Segmentation\r\">\n",
       "<polygon fill=\"transparent\" stroke=\"transparent\" points=\"436,-77.5 224,-77.5 224,-58.5 436,-58.5 436,-77.5\"/>\n",
       "<text text-anchor=\"middle\" x=\"330\" y=\"-65.5\" font-family=\"arial\" font-size=\"10.00\">volume_matching.VolumeMatchTask.Volume</text>\n",
       "</a>\n",
       "</g>\n",
       "</g>\n",
       "<!-- volume_matching.VolumeMatchTask&#45;&gt;volume_matching.VolumeMatchTask.Volume -->\n",
       "<g id=\"edge2\" class=\"edge\">\n",
       "<title>volume_matching.VolumeMatchTask-&gt;volume_matching.VolumeMatchTask.Volume</title>\n",
       "<path fill=\"none\" stroke=\"#000000\" stroke-width=\"0.75\" stroke-opacity=\"0.250980\" d=\"M330,-116.89C330,-104.35 330,-87.64 330,-77.64\"/>\n",
       "</g>\n",
       "<!-- volume_matching.VolumeMatch -->\n",
       "<g id=\"node12\" class=\"node\">\n",
       "<title>volume_matching.VolumeMatch</title>\n",
       "<g id=\"a_node12\"><a xlink:title=\"→ volume_matching.VolumeMatchTask\r------------------------------\rexecution_time       \rexecution_duration   \r\">\n",
       "<ellipse fill=\"#ff0000\" fill-opacity=\"0.125490\" stroke=\"#ff0000\" stroke-opacity=\"0.125490\" cx=\"112\" cy=\"-68\" rx=\"13\" ry=\"13\"/>\n",
       "<text text-anchor=\"middle\" x=\"112\" y=\"-64.9\" font-family=\"arial\" font-size=\"12.00\" fill=\"#7f0000\" fill-opacity=\"0.627451\">volume_matching.VolumeMatch</text>\n",
       "</a>\n",
       "</g>\n",
       "</g>\n",
       "<!-- volume_matching.VolumeMatchTask&#45;&gt;volume_matching.VolumeMatch -->\n",
       "<g id=\"edge3\" class=\"edge\">\n",
       "<title>volume_matching.VolumeMatchTask-&gt;volume_matching.VolumeMatch</title>\n",
       "<path fill=\"none\" stroke=\"#000000\" stroke-width=\"2\" stroke-opacity=\"0.250980\" d=\"M274.14,-116.97C223.43,-101.97 152.4,-80.95 124.21,-72.61\"/>\n",
       "</g>\n",
       "<!-- volume.Segmentation -->\n",
       "<g id=\"node3\" class=\"node\">\n",
       "<title>volume.Segmentation</title>\n",
       "<g id=\"a_node3\"><a xlink:title=\"→ volume.SegmentationTask\r\">\n",
       "<ellipse fill=\"#ff0000\" fill-opacity=\"0.125490\" stroke=\"#ff0000\" stroke-opacity=\"0.125490\" cx=\"763\" cy=\"-134.5\" rx=\"13\" ry=\"13\"/>\n",
       "<text text-anchor=\"middle\" x=\"763\" y=\"-131.4\" font-family=\"arial\" font-size=\"12.00\" fill=\"#7f0000\" fill-opacity=\"0.627451\">volume.Segmentation</text>\n",
       "</a>\n",
       "</g>\n",
       "</g>\n",
       "<!-- volume.Segmentation.Mask -->\n",
       "<g id=\"node4\" class=\"node\">\n",
       "<title>volume.Segmentation.Mask</title>\n",
       "<g id=\"a_node4\"><a xlink:title=\"→ volume.Segmentation\rmask                 \r------------------------------\rmask_npix            \rmask_center_x        \rmask_center_y        \rmask_center_z        \rmask_xpix            \rmask_ypix            \rmask_zpix            \rmask_weights         \r\">\n",
       "<polygon fill=\"transparent\" stroke=\"transparent\" points=\"832,-77.5 694,-77.5 694,-58.5 832,-58.5 832,-77.5\"/>\n",
       "<text text-anchor=\"start\" x=\"702\" y=\"-66.5\" font-family=\"arial\" text-decoration=\"underline\" font-size=\"10.00\">volume.Segmentation.Mask</text>\n",
       "</a>\n",
       "</g>\n",
       "</g>\n",
       "<!-- volume.Segmentation&#45;&gt;volume.Segmentation.Mask -->\n",
       "<g id=\"edge4\" class=\"edge\">\n",
       "<title>volume.Segmentation-&gt;volume.Segmentation.Mask</title>\n",
       "<path fill=\"none\" stroke=\"#000000\" stroke-width=\"0.75\" stroke-opacity=\"0.250980\" d=\"M763,-121.37C763,-108.67 763,-89.04 763,-77.77\"/>\n",
       "</g>\n",
       "<!-- volume.Segmentation&#45;&gt;volume_matching.VolumeMatchTask.Volume -->\n",
       "<g id=\"edge5\" class=\"edge\">\n",
       "<title>volume.Segmentation-&gt;volume_matching.VolumeMatchTask.Volume</title>\n",
       "<path fill=\"none\" stroke=\"#000000\" stroke-width=\"0.75\" stroke-opacity=\"0.250980\" d=\"M750.04,-131.57C696.29,-123.56 488.93,-92.67 387.09,-77.5\"/>\n",
       "</g>\n",
       "<!-- volume.Segmentation.Mask&#45;&gt;volume_matching.VolumeMatch.VolumeMask -->\n",
       "<g id=\"edge6\" class=\"edge\">\n",
       "<title>volume.Segmentation.Mask-&gt;volume_matching.VolumeMatch.VolumeMask</title>\n",
       "<path fill=\"none\" stroke=\"#000000\" stroke-width=\"0.75\" stroke-dasharray=\"5,2\" stroke-opacity=\"0.250980\" d=\"M732.93,-58.42C695.6,-47.77 632.33,-29.71 595.03,-19.07\"/>\n",
       "</g>\n",
       "<!-- volume.Volume -->\n",
       "<g id=\"node5\" class=\"node\">\n",
       "<title>volume.Volume</title>\n",
       "<g id=\"a_node5\"><a xlink:title=\"→ scan.Scan\r------------------------------\rpx_width             \rpx_height            \rpx_depth             \rdepth_mean_brightness=null \rvolume               \r\">\n",
       "<ellipse fill=\"#00007f\" fill-opacity=\"0.250980\" stroke=\"#00007f\" stroke-opacity=\"0.250980\" cx=\"650\" cy=\"-276.5\" rx=\"61.75\" ry=\"17.5\"/>\n",
       "<text text-anchor=\"middle\" x=\"650\" y=\"-273.4\" font-family=\"arial\" font-size=\"12.00\" fill=\"#00007f\" fill-opacity=\"0.627451\">volume.Volume</text>\n",
       "</a>\n",
       "</g>\n",
       "</g>\n",
       "<!-- volume.VoxelSize -->\n",
       "<g id=\"node7\" class=\"node\">\n",
       "<title>volume.VoxelSize</title>\n",
       "<g id=\"a_node7\"><a xlink:title=\"→ volume.Volume\r------------------------------\rwidth                \rheight               \rdepth                \r\">\n",
       "<polygon fill=\"#00ff00\" fill-opacity=\"0.188235\" stroke=\"#00ff00\" stroke-opacity=\"0.188235\" points=\"708.5,-223 595.5,-223 595.5,-188 708.5,-188 708.5,-223\"/>\n",
       "<text text-anchor=\"middle\" x=\"652\" y=\"-202.4\" font-family=\"arial\" font-size=\"12.00\" fill=\"darkgreen\">volume.VoxelSize</text>\n",
       "</a>\n",
       "</g>\n",
       "</g>\n",
       "<!-- volume.Volume&#45;&gt;volume.VoxelSize -->\n",
       "<g id=\"edge7\" class=\"edge\">\n",
       "<title>volume.Volume-&gt;volume.VoxelSize</title>\n",
       "<path fill=\"none\" stroke=\"#000000\" stroke-width=\"2\" stroke-opacity=\"0.250980\" d=\"M650.48,-258.8C650.8,-247.95 651.21,-233.87 651.52,-223.05\"/>\n",
       "</g>\n",
       "<!-- bossdb.VolumeUploadTask -->\n",
       "<g id=\"node8\" class=\"node\">\n",
       "<title>bossdb.VolumeUploadTask</title>\n",
       "<g id=\"a_node8\"><a xlink:title=\"→ volume.Volume\rupload_type=&quot;image&quot;  \r------------------------------\rcollection_name      \rexperiment_name      \rchannel_name         \r\">\n",
       "<polygon fill=\"#00ff00\" fill-opacity=\"0.188235\" stroke=\"#00ff00\" stroke-opacity=\"0.188235\" points=\"577.5,-223 414.5,-223 414.5,-188 577.5,-188 577.5,-223\"/>\n",
       "<text text-anchor=\"start\" x=\"422.5\" y=\"-203.4\" font-family=\"arial\" text-decoration=\"underline\" font-size=\"12.00\" fill=\"darkgreen\">bossdb.VolumeUploadTask</text>\n",
       "</a>\n",
       "</g>\n",
       "</g>\n",
       "<!-- volume.Volume&#45;&gt;bossdb.VolumeUploadTask -->\n",
       "<g id=\"edge8\" class=\"edge\">\n",
       "<title>volume.Volume-&gt;bossdb.VolumeUploadTask</title>\n",
       "<path fill=\"none\" stroke=\"#000000\" stroke-width=\"0.75\" stroke-opacity=\"0.250980\" d=\"M618.46,-261.37C593.65,-250.25 559.02,-234.74 532.91,-223.04\"/>\n",
       "</g>\n",
       "<!-- volume.SegmentationTask -->\n",
       "<g id=\"node13\" class=\"node\">\n",
       "<title>volume.SegmentationTask</title>\n",
       "<g id=\"a_node13\"><a xlink:title=\"→ volume.Volume\r→ volume.SegmentationParamSet\r------------------------------\rsegmentation_output_dir=&quot;&quot; \rtask_mode=&quot;load&quot;     \r\">\n",
       "<polygon fill=\"#00ff00\" fill-opacity=\"0.188235\" stroke=\"#00ff00\" stroke-opacity=\"0.188235\" points=\"885,-223 727,-223 727,-188 885,-188 885,-223\"/>\n",
       "<text text-anchor=\"middle\" x=\"806\" y=\"-202.4\" font-family=\"arial\" font-size=\"12.00\" fill=\"darkgreen\">volume.SegmentationTask</text>\n",
       "</a>\n",
       "</g>\n",
       "</g>\n",
       "<!-- volume.Volume&#45;&gt;volume.SegmentationTask -->\n",
       "<g id=\"edge9\" class=\"edge\">\n",
       "<title>volume.Volume-&gt;volume.SegmentationTask</title>\n",
       "<path fill=\"none\" stroke=\"#000000\" stroke-width=\"0.75\" stroke-opacity=\"0.250980\" d=\"M681.95,-261.37C707.08,-250.25 742.16,-234.74 768.61,-223.04\"/>\n",
       "</g>\n",
       "<!-- volume_matching.VolumeMatch.Transformation -->\n",
       "<g id=\"node6\" class=\"node\">\n",
       "<title>volume_matching.VolumeMatch.Transformation</title>\n",
       "<g id=\"a_node6\"><a xlink:title=\"→ volume_matching.VolumeMatch\r→ volume_matching.VolumeMatchTask.Volume\r------------------------------\rtransformation_matrix \r\">\n",
       "<polygon fill=\"transparent\" stroke=\"transparent\" points=\"224,-19 0,-19 0,0 224,0 224,-19\"/>\n",
       "<text text-anchor=\"middle\" x=\"112\" y=\"-7\" font-family=\"arial\" font-size=\"10.00\">volume_matching.VolumeMatch.Transformation</text>\n",
       "</a>\n",
       "</g>\n",
       "</g>\n",
       "<!-- bossdb.BossDBURLs -->\n",
       "<g id=\"node10\" class=\"node\">\n",
       "<title>bossdb.BossDBURLs</title>\n",
       "<g id=\"a_node10\"><a xlink:title=\"→ bossdb.VolumeUploadTask\r------------------------------\rbossdb_url           \rneuroglancer_url=&quot;&quot;  \r\">\n",
       "<ellipse fill=\"#00007f\" fill-opacity=\"0.250980\" stroke=\"#00007f\" stroke-opacity=\"0.250980\" cx=\"538\" cy=\"-134.5\" rx=\"83.5\" ry=\"17.5\"/>\n",
       "<text text-anchor=\"middle\" x=\"538\" y=\"-131.4\" font-family=\"arial\" font-size=\"12.00\" fill=\"#00007f\" fill-opacity=\"0.627451\">bossdb.BossDBURLs</text>\n",
       "</a>\n",
       "</g>\n",
       "</g>\n",
       "<!-- bossdb.VolumeUploadTask&#45;&gt;bossdb.BossDBURLs -->\n",
       "<g id=\"edge10\" class=\"edge\">\n",
       "<title>bossdb.VolumeUploadTask-&gt;bossdb.BossDBURLs</title>\n",
       "<path fill=\"none\" stroke=\"#000000\" stroke-width=\"2\" stroke-opacity=\"0.250980\" d=\"M506.17,-187.8C512.77,-176.95 521.34,-162.87 527.93,-152.05\"/>\n",
       "</g>\n",
       "<!-- volume_matching.VolumeMatchTask.Volume&#45;&gt;volume_matching.VolumeMatch.Transformation -->\n",
       "<g id=\"edge11\" class=\"edge\">\n",
       "<title>volume_matching.VolumeMatchTask.Volume-&gt;volume_matching.VolumeMatch.Transformation</title>\n",
       "<path fill=\"none\" stroke=\"#000000\" stroke-width=\"2\" stroke-opacity=\"0.250980\" d=\"M296.89,-58.42C255.8,-47.77 186.14,-29.71 145.06,-19.07\"/>\n",
       "</g>\n",
       "<!-- volume_matching.VolumeMatchTask.Volume&#45;&gt;volume_matching.VolumeMatch.VolumeMask -->\n",
       "<g id=\"edge12\" class=\"edge\">\n",
       "<title>volume_matching.VolumeMatchTask.Volume-&gt;volume_matching.VolumeMatch.VolumeMask</title>\n",
       "<path fill=\"none\" stroke=\"#000000\" stroke-width=\"0.75\" stroke-opacity=\"0.250980\" d=\"M365.44,-58.48C409.67,-47.84 484.9,-29.76 529.28,-19.09\"/>\n",
       "</g>\n",
       "<!-- volume.SegmentationParamSet -->\n",
       "<g id=\"node11\" class=\"node\">\n",
       "<title>volume.SegmentationParamSet</title>\n",
       "<g id=\"a_node11\"><a xlink:title=\"paramset_idx         \r------------------------------\rsegmentation_method  \rparamset_desc=&quot;&quot;     \rparams               \rparamset_hash        \rUNIQUE INDEX (paramset_hash)\r\">\n",
       "<polygon fill=\"#000000\" fill-opacity=\"0.125490\" stroke=\"transparent\" points=\"884.5,-294 729.5,-294 729.5,-259 884.5,-259 884.5,-294\"/>\n",
       "<text text-anchor=\"start\" x=\"737.5\" y=\"-275\" font-family=\"arial\" text-decoration=\"underline\" font-size=\"10.00\">volume.SegmentationParamSet</text>\n",
       "</a>\n",
       "</g>\n",
       "</g>\n",
       "<!-- volume.SegmentationParamSet&#45;&gt;volume.SegmentationTask -->\n",
       "<g id=\"edge13\" class=\"edge\">\n",
       "<title>volume.SegmentationParamSet-&gt;volume.SegmentationTask</title>\n",
       "<path fill=\"none\" stroke=\"#000000\" stroke-width=\"0.75\" stroke-opacity=\"0.250980\" d=\"M806.76,-258.8C806.6,-247.95 806.4,-233.87 806.24,-223.05\"/>\n",
       "</g>\n",
       "<!-- volume_matching.VolumeMatch&#45;&gt;volume_matching.VolumeMatch.Transformation -->\n",
       "<g id=\"edge14\" class=\"edge\">\n",
       "<title>volume_matching.VolumeMatch-&gt;volume_matching.VolumeMatch.Transformation</title>\n",
       "<path fill=\"none\" stroke=\"#000000\" stroke-width=\"0.75\" stroke-opacity=\"0.250980\" d=\"M112,-54.74C112,-43.97 112,-28.56 112,-19.06\"/>\n",
       "</g>\n",
       "<!-- volume.SegmentationTask&#45;&gt;volume.Segmentation -->\n",
       "<g id=\"edge15\" class=\"edge\">\n",
       "<title>volume.SegmentationTask-&gt;volume.Segmentation</title>\n",
       "<path fill=\"none\" stroke=\"#000000\" stroke-width=\"2\" stroke-opacity=\"0.250980\" d=\"M795.59,-187.8C787.44,-174.71 776.36,-156.93 769.44,-145.84\"/>\n",
       "</g>\n",
       "<!-- subject.Subject -->\n",
       "<g id=\"node14\" class=\"node\">\n",
       "<title>subject.Subject</title>\n",
       "<g id=\"a_node14\"><a xlink:title=\"subject              \r------------------------------\rsubject_nickname=&quot;&quot;  \rsex                  \rsubject_birth_date   \rsubject_description=&quot;&quot; \r\">\n",
       "<polygon fill=\"#00ff00\" fill-opacity=\"0.188235\" stroke=\"#00ff00\" stroke-opacity=\"0.188235\" points=\"699,-507 601,-507 601,-472 699,-472 699,-507\"/>\n",
       "<text text-anchor=\"start\" x=\"609\" y=\"-487.4\" font-family=\"arial\" text-decoration=\"underline\" font-size=\"12.00\" fill=\"darkgreen\">subject.Subject</text>\n",
       "</a>\n",
       "</g>\n",
       "</g>\n",
       "<!-- session.Session -->\n",
       "<g id=\"node16\" class=\"node\">\n",
       "<title>session.Session</title>\n",
       "<g id=\"a_node16\"><a xlink:title=\"→ subject.Subject\rsession_id           \r------------------------------\rsession_datetime     \r\">\n",
       "<polygon fill=\"#00ff00\" fill-opacity=\"0.188235\" stroke=\"#00ff00\" stroke-opacity=\"0.188235\" points=\"702,-436 598,-436 598,-401 702,-401 702,-436\"/>\n",
       "<text text-anchor=\"start\" x=\"606\" y=\"-416.4\" font-family=\"arial\" text-decoration=\"underline\" font-size=\"12.00\" fill=\"darkgreen\">session.Session</text>\n",
       "</a>\n",
       "</g>\n",
       "</g>\n",
       "<!-- subject.Subject&#45;&gt;session.Session -->\n",
       "<g id=\"edge16\" class=\"edge\">\n",
       "<title>subject.Subject-&gt;session.Session</title>\n",
       "<path fill=\"none\" stroke=\"#000000\" stroke-width=\"0.75\" stroke-opacity=\"0.250980\" d=\"M650,-471.8C650,-460.95 650,-446.87 650,-436.05\"/>\n",
       "</g>\n",
       "<!-- scan.Scan -->\n",
       "<g id=\"node15\" class=\"node\">\n",
       "<title>scan.Scan</title>\n",
       "<g id=\"a_node15\"><a xlink:title=\"→ session.Session\rscan_id              \r------------------------------\r→ [nullable] `kushalbakshi2_reference`.`#device`\r→ scan.AcquisitionSoftware\rscan_notes=&quot;&quot;        \r\">\n",
       "<polygon fill=\"#00ff00\" fill-opacity=\"0.188235\" stroke=\"#00ff00\" stroke-opacity=\"0.188235\" points=\"686.5,-365 613.5,-365 613.5,-330 686.5,-330 686.5,-365\"/>\n",
       "<text text-anchor=\"start\" x=\"621.5\" y=\"-345.4\" font-family=\"arial\" text-decoration=\"underline\" font-size=\"12.00\" fill=\"darkgreen\">scan.Scan</text>\n",
       "</a>\n",
       "</g>\n",
       "</g>\n",
       "<!-- scan.Scan&#45;&gt;volume.Volume -->\n",
       "<g id=\"edge17\" class=\"edge\">\n",
       "<title>scan.Scan-&gt;volume.Volume</title>\n",
       "<path fill=\"none\" stroke=\"#000000\" stroke-width=\"2\" stroke-opacity=\"0.250980\" d=\"M650,-329.8C650,-318.95 650,-304.87 650,-294.05\"/>\n",
       "</g>\n",
       "<!-- session.Session&#45;&gt;scan.Scan -->\n",
       "<g id=\"edge18\" class=\"edge\">\n",
       "<title>session.Session-&gt;scan.Scan</title>\n",
       "<path fill=\"none\" stroke=\"#000000\" stroke-width=\"0.75\" stroke-opacity=\"0.250980\" d=\"M650,-400.8C650,-389.95 650,-375.87 650,-365.05\"/>\n",
       "</g>\n",
       "</g>\n",
       "</svg>"
      ],
      "text/plain": [
       "<datajoint.diagram.Diagram at 0x1e8c96e6740>"
      ]
     },
     "execution_count": 3,
     "metadata": {},
     "output_type": "execute_result"
    }
   ],
   "source": [
    "(\n",
    "    dj.Diagram(subject.Subject)\n",
    "    + dj.Diagram(session.Session)\n",
    "    + dj.Diagram(scan.Scan)\n",
    "    + dj.Diagram(volume)\n",
    "    + dj.Diagram(volume_matching)\n",
    "    + dj.Diagram(bossdb)\n",
    ")"
   ]
  },
  {
   "attachments": {},
   "cell_type": "markdown",
   "metadata": {},
   "source": [
    "### Diagram Breakdown\n",
    "\n",
    "While the diagram above seems complex at first, it becomes more clear when it's\n",
    "approached as a hierarchy of tables that **define the order** in which the\n",
    "workflow **expects to receive data** in each of its tables. \n",
    "\n",
    "- Tables with a green, or rectangular shape expect to receive data manually using the\n",
    "`insert()` function. \n",
    "- The tables higher up in the diagram such as `subject.Subject()`\n",
    "should be the first to receive data. This ensures data integrity by preventing orphaned\n",
    "data within DataJoint schemas. \n",
    "- Tables with a purple oval or red circle can be automatically filled with relevant data\n",
    "  by calling `populate()`. For example `volume.Segmentation` and its part-table\n",
    "  `volume.Segmentation.Mask` are both populated with `volume.Segmentation.populate()`.\n",
    "- Tables connected by a solid line depend on attributes (entries) in the table\n",
    "  above it.\n",
    "\n",
    "#### Table Types\n",
    "\n",
    "There are 5 table types in DataJoint. Each of these appear in the diagram above.\n",
    "\n",
    "- **Manual table**: green box, manually inserted table, expect new entries daily, e.g. `Subject`, `Scan`.  \n",
    "- **Lookup table**: gray box, pre inserted table, commonly used for general facts or parameters. e.g. `bossdb.UploadParamset`, `volume.SegmentationParamset`.  \n",
    "- **Imported table**: blue oval, auto-processing table, the processing depends\n",
    "  on the importing of external files. e.g. process of obtaining the `Volume` data requires\n",
    "  raw data stored outside the database.  \n",
    "- **Computed table**: red circle, auto-processing table, the processing does not\n",
    "  depend on files external to the database, commonly used for computations such\n",
    "  as `volume.Segmentation`, `volume_match.VolumeMatch`.   \n",
    "- **Part table**: plain text, as an appendix to the master table, all the part\n",
    "  entries of a given master entry represent a intact set of the master entry.\n",
    "  e.g. Masks of `Segmentation`."
   ]
  },
  {
   "attachments": {},
   "cell_type": "markdown",
   "metadata": {},
   "source": [
    "## Starting the workflow: Insert\n",
    "\n",
    "### Insert entries into manual tables\n",
    "\n",
    "To view details about a table's dependencies and attributes, use functions `.describe()`\n",
    "and `.heading`, respectively.\n",
    "\n",
    "Let's start with the first table in the schema diagram (the `subject` table) and view\n",
    "the table attributes we need to insert. There are two ways you can do this: *run each\n",
    "of the two cells below*"
   ]
  },
  {
   "cell_type": "code",
   "execution_count": null,
   "metadata": {},
   "outputs": [],
   "source": [
    "subject.Subject.describe()"
   ]
  },
  {
   "cell_type": "code",
   "execution_count": null,
   "metadata": {},
   "outputs": [],
   "source": [
    "subject.Subject.heading"
   ]
  },
  {
   "cell_type": "code",
   "execution_count": null,
   "metadata": {},
   "outputs": [],
   "source": [
    "subject.Subject.insert1(\n",
    "    dict(\n",
    "        subject=\"subject1\",\n",
    "        sex=\"M\",\n",
    "        subject_birth_date=\"2023-01-01\",\n",
    "        subject_description=\"Cellpose segmentation of volumetric data.\",\n",
    "    ),\n",
    "    skip_duplicates=True,\n",
    ")\n",
    "subject.Subject()"
   ]
  },
  {
   "cell_type": "markdown",
   "metadata": {},
   "source": [
    "Let's repeat the steps above for the `Session` table and see how the output varies between `.describe` and `.heading`. "
   ]
  },
  {
   "cell_type": "code",
   "execution_count": null,
   "metadata": {},
   "outputs": [],
   "source": [
    "session.Session.describe()"
   ]
  },
  {
   "cell_type": "code",
   "execution_count": null,
   "metadata": {},
   "outputs": [],
   "source": [
    "session.Session.heading"
   ]
  },
  {
   "attachments": {},
   "cell_type": "markdown",
   "metadata": {},
   "source": [
    "The cells above show the dependencies and attributes for the `session.Session` table.\n",
    "Notice that `describe` shows the dependencies of the table on upstream tables. The\n",
    "`Session` table depends on the upstream `Subject` table. \n",
    "\n",
    "Whereas `heading` lists all the attributes of the `Session` table, regardless of\n",
    "whether they are declared in an upstream table. \n",
    "\n",
    "Here we will demonstrate a very useful way of inserting data by assigning the dictionary\n",
    "to a variable `session_key`. This variable can be used to insert entries into tables that\n",
    "contain the `Session` table as one of its attributes."
   ]
  },
  {
   "cell_type": "code",
   "execution_count": null,
   "metadata": {},
   "outputs": [],
   "source": [
    "session_key = dict(\n",
    "    subject=\"subject1\",\n",
    "    session_id=0,\n",
    ")\n",
    "session.Session.insert1(\n",
    "    dict(\n",
    "        session_key,\n",
    "        session_datetime=datetime.datetime.now(),\n",
    "    ),\n",
    "    skip_duplicates=True,\n",
    ")\n",
    "session.Session()"
   ]
  },
  {
   "attachments": {},
   "cell_type": "markdown",
   "metadata": {},
   "source": [
    "The `SessionDirectory` table locates the relevant data files in a directory path\n",
    "relative to the root directory defined in your `dj.config[\"custom\"]`. More\n",
    "information about `dj.config` is provided at the end of this tutorial and is\n",
    "particularly useful for local deployments of this workflow."
   ]
  },
  {
   "cell_type": "code",
   "execution_count": null,
   "metadata": {},
   "outputs": [],
   "source": [
    "session.SessionDirectory.describe()"
   ]
  },
  {
   "cell_type": "code",
   "execution_count": null,
   "metadata": {},
   "outputs": [],
   "source": [
    "session.SessionDirectory.heading"
   ]
  },
  {
   "cell_type": "code",
   "execution_count": null,
   "metadata": {},
   "outputs": [],
   "source": [
    "session.SessionDirectory.insert1(\n",
    "    dict(session_key, session_dir=\"sub1\"),\n",
    "    skip_duplicates=True,\n",
    ")\n",
    "session.SessionDirectory()"
   ]
  },
  {
   "attachments": {},
   "cell_type": "markdown",
   "metadata": {},
   "source": [
    "Each volume requires an entry in the `Scan` table from\n",
    "`element-calcium-imaging`. Here, we'll use `describe` and `heading` for the Scan\n",
    "table and insert an entry for the current session."
   ]
  },
  {
   "cell_type": "code",
   "execution_count": null,
   "metadata": {},
   "outputs": [],
   "source": [
    "scan.Scan.describe()"
   ]
  },
  {
   "cell_type": "code",
   "execution_count": null,
   "metadata": {},
   "outputs": [],
   "source": [
    "scan.Scan.heading"
   ]
  },
  {
   "cell_type": "code",
   "execution_count": null,
   "metadata": {},
   "outputs": [],
   "source": [
    "scan.Scan.insert1(\n",
    "    dict(\n",
    "        session_key,\n",
    "        scan_id=0,\n",
    "        acq_software=\"ScanImage\",\n",
    "    ),\n",
    "    skip_duplicates=True,\n",
    ")\n",
    "scan_key = (scan.Scan & \"subject = 'subject1'\").fetch1(\"KEY\")"
   ]
  },
  {
   "attachments": {},
   "cell_type": "markdown",
   "metadata": {},
   "source": [
    "## Populate\n",
    "\n",
    "### Automatically populate tables\n",
    "\n",
    "`volume.Volume` is the first table in the pipeline that can be populated automatically.\n",
    "If a table contains a part table, this part table is also populated during the\n",
    "`populate()` call. `populate()` takes several arguments including the a session\n",
    "key. This key restricts `populate()` to performing the operation on the session\n",
    "of interest rather than all possible sessions which could be a time-intensive\n",
    "process for databases with lots of entries.\n",
    "\n",
    "Let's view the `volume.Volume` and populate it using the `populate()` call."
   ]
  },
  {
   "cell_type": "code",
   "execution_count": null,
   "metadata": {},
   "outputs": [],
   "source": [
    "volume.Volume.heading"
   ]
  },
  {
   "cell_type": "code",
   "execution_count": null,
   "metadata": {},
   "outputs": [],
   "source": [
    "volume.Volume()"
   ]
  },
  {
   "cell_type": "code",
   "execution_count": null,
   "metadata": {},
   "outputs": [],
   "source": [
    "volume.Volume.populate(scan_key, display_progress=True)"
   ]
  },
  {
   "attachments": {},
   "cell_type": "markdown",
   "metadata": {},
   "source": [
    "Let's view the information was entered into this table:"
   ]
  },
  {
   "cell_type": "code",
   "execution_count": null,
   "metadata": {},
   "outputs": [],
   "source": [
    "volume.Volume()"
   ]
  },
  {
   "attachments": {},
   "cell_type": "markdown",
   "metadata": {},
   "source": [
    "We're almost ready to perform volume segmentation with `cellpose`. An important step before\n",
    "processing is managing the parameters which will be used in that step. To do so, we will\n",
    "insert parameters required by cellpose into a DataJoint table\n",
    "`SegmentationParamSet`. This table keeps track of all combinations of your image\n",
    "processing parameters. You can choose which parameters are used during\n",
    "processing in a later step.\n",
    "\n",
    "Let's view the attributes and insert data into `volume.SegmentationParamSet`."
   ]
  },
  {
   "cell_type": "code",
   "execution_count": null,
   "metadata": {},
   "outputs": [],
   "source": [
    "volume.SegmentationParamSet.heading"
   ]
  },
  {
   "cell_type": "code",
   "execution_count": null,
   "metadata": {},
   "outputs": [],
   "source": [
    "volume.SegmentationParamSet.insert_new_params(\n",
    "    segmentation_method=\"cellpose\",\n",
    "    paramset_idx=1,\n",
    "    params=dict(\n",
    "        diameter=8,\n",
    "        min_size=2,\n",
    "        do_3d=False,\n",
    "        anisotropy=0.5,\n",
    "        model_type=\"nuclei\",\n",
    "        channels=[[0, 0]],\n",
    "        z_axis=0,\n",
    "        skip_duplicates=True,\n",
    "    ),\n",
    ")"
   ]
  },
  {
   "attachments": {},
   "cell_type": "markdown",
   "metadata": {},
   "source": [
    "Now that we've inserted cellpose parameters into the `SegmentationParamSet` table,\n",
    "we're almost ready to run image processing. DataJoint uses a `SegmentationTask` table to\n",
    "manage which `Volume` and `SegmentationParamSet` should be used during processing. \n",
    "\n",
    "This table is important for defining several important aspects of\n",
    "downstream processing. Let's view the attributes to get a better understanding. "
   ]
  },
  {
   "cell_type": "code",
   "execution_count": null,
   "metadata": {},
   "outputs": [],
   "source": [
    "volume.SegmentationTask.describe()"
   ]
  },
  {
   "cell_type": "code",
   "execution_count": null,
   "metadata": {},
   "outputs": [],
   "source": [
    "volume.SegmentationTask.heading"
   ]
  },
  {
   "attachments": {},
   "cell_type": "markdown",
   "metadata": {},
   "source": [
    "The `SegmentationTask` table contains two important attributes: \n",
    "+ `paramset_idx`\n",
    "+ `task_mode`\n",
    "\n",
    "The `paramset_idx` attribute is tracks\n",
    "your segmentation parameter sets. You can choose the parameter set on which\n",
    "you want to run segmentation analysis based on this attribute. This\n",
    "attribute tells the `Segmentation` table which set of parameters you are\n",
    "processing in a given `populate()`.\n",
    "\n",
    "The `task_mode` attribute can be set to either `load` or `trigger`. When set to `trigger`, the\n",
    "segmentation step will run cellpose on the raw data."
   ]
  },
  {
   "cell_type": "code",
   "execution_count": null,
   "metadata": {},
   "outputs": [],
   "source": [
    "volume.SegmentationTask.insert1(\n",
    "    dict(\n",
    "        scan_key,\n",
    "        paramset_idx=1,\n",
    "        task_mode=\"trigger\",\n",
    "    ),\n",
    "    skip_duplicates=True,\n",
    ")"
   ]
  },
  {
   "attachments": {},
   "cell_type": "markdown",
   "metadata": {},
   "source": [
    "For now, Element ZStack only supports triggering cellpose. Now, we can popluate\n",
    "the `Segmentation` table. This step may take several hours, depending on your\n",
    "computer's capabilities."
   ]
  },
  {
   "cell_type": "code",
   "execution_count": null,
   "metadata": {},
   "outputs": [],
   "source": [
    "volume.Segmentation.populate(scan_key, display_progress=True)"
   ]
  },
  {
   "attachments": {},
   "cell_type": "markdown",
   "metadata": {},
   "source": [
    "Finally, we can upload our data to BossDB. The `bossdb` schema contains two\n",
    "tables to the upload tasks, and execute the upload. The structure of these\n",
    "tables mirrors the `volume` schema.\n",
    "\n",
    "Volumetric data uploaded to BossDB requires information about voxel size. The\n",
    "DataJoint table `volume.VoxelSize` can be used to insert this information for a\n",
    "given dataset."
   ]
  },
  {
   "cell_type": "code",
   "execution_count": null,
   "metadata": {},
   "outputs": [],
   "source": [
    "volume.VoxelSize.heading"
   ]
  },
  {
   "cell_type": "code",
   "execution_count": null,
   "metadata": {},
   "outputs": [],
   "source": [
    "volume.VoxelSize.insert1(dict(scan_key, width=0.001, height=0.001, depth=0.001))"
   ]
  },
  {
   "attachments": {},
   "cell_type": "markdown",
   "metadata": {},
   "source": [
    "Now, we can define the upload task by naming the collection, experiment,\n",
    "and channel where the data should be uploaded. "
   ]
  },
  {
   "cell_type": "code",
   "execution_count": null,
   "metadata": {},
   "outputs": [],
   "source": [
    "bossdb.VolumeUploadTask.describe()"
   ]
  },
  {
   "cell_type": "code",
   "execution_count": null,
   "metadata": {},
   "outputs": [],
   "source": [
    "bossdb.VolumeUploadTask.heading"
   ]
  },
  {
   "cell_type": "code",
   "execution_count": null,
   "metadata": {},
   "outputs": [],
   "source": [
    "col_name = \"dataJointTestUpload\"\n",
    "exp_name = \"CaImagingFinal\"\n",
    "chn_name = \"test1-seg\"\n",
    "bossdb.VolumeUploadTask.insert1(\n",
    "    dict(\n",
    "        scan_key,\n",
    "        collection_name=col_name,\n",
    "        experiment_name=exp_name,\n",
    "        channel_name=chn_name,\n",
    "        upload_type=\"annotation\",\n",
    "    )\n",
    ")"
   ]
  },
  {
   "cell_type": "code",
   "execution_count": null,
   "metadata": {},
   "outputs": [],
   "source": [
    "bossdb.VolumeUploadTask()"
   ]
  },
  {
   "cell_type": "code",
   "execution_count": null,
   "metadata": {},
   "outputs": [],
   "source": [
    "upload_key = (bossdb.VolumeUploadTask & scan_key & \"upload_type = 'image'\").fetch(\"KEY\")"
   ]
  },
  {
   "cell_type": "code",
   "execution_count": null,
   "metadata": {},
   "outputs": [],
   "source": [
    "bossdb.BossDBURLs.populate(upload_key)"
   ]
  },
  {
   "cell_type": "code",
   "execution_count": null,
   "metadata": {},
   "outputs": [],
   "source": [
    "bossdb.BossDBURLs()"
   ]
  },
  {
   "attachments": {},
   "cell_type": "markdown",
   "metadata": {},
   "source": [
    "To visualize the volumetric data, import the neuroglancer URL and paste it into\n",
    "your browser."
   ]
  },
  {
   "cell_type": "code",
   "execution_count": null,
   "metadata": {},
   "outputs": [],
   "source": [
    "(bossdb.BossDBURLs & scan_key).fetch1(\"neuroglancer_url\")"
   ]
  },
  {
   "attachments": {},
   "cell_type": "markdown",
   "metadata": {},
   "source": [
    "Explain how to get permission from APL to upload data. \n",
    "\n",
    "Create a schema to automatically generate neuroglancer link and insert into DJ\n",
    "table. \n",
    "\n",
    "Include BossDBUpload in BossDBURLs as a computed/imported table. "
   ]
  }
 ],
 "metadata": {
  "jupytext": {
   "formats": "ipynb,py:percent"
  },
  "kernelspec": {
   "display_name": "Python 3.9.13 ('ele')",
   "language": "python",
   "name": "python3"
  },
  "language_info": {
   "codemirror_mode": {
    "name": "ipython",
    "version": 3
   },
   "file_extension": ".py",
   "mimetype": "text/x-python",
   "name": "python",
   "nbconvert_exporter": "python",
   "pygments_lexer": "ipython3",
   "version": "3.10.10"
  },
  "vscode": {
   "interpreter": {
    "hash": "d00c4ad21a7027bf1726d6ae3a9a6ef39c8838928eca5a3d5f51f3eb68720410"
   }
  }
 },
 "nbformat": 4,
 "nbformat_minor": 4
}
